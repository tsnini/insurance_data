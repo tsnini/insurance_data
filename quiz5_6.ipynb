{
 "cells": [
  {
   "cell_type": "markdown",
   "id": "29e9d8ce-bc7b-45c2-a668-9e998b9cf146",
   "metadata": {},
   "source": [
    "## Columns\n",
    "\n",
    "age: age of primary beneficiary\n",
    "\n",
    "sex: insurance contractor gender, female, male\n",
    "\n",
    "bmi: Body mass index, providing an understanding of body, weights that are relatively high or low relative to height,\n",
    "objective index of body weight (kg / m ^ 2) using the ratio of height to weight, ideally 18.5 to 24.9\n",
    "\n",
    "children: Number of children covered by health insurance / Number of dependents\n",
    "\n",
    "smoker: Smoking\n",
    "\n",
    "region: the beneficiary's residential area in the US, northeast, southeast, southwest, northwest.\n",
    "\n",
    "charges: Individual medical costs billed by health insurance\n",
    "\n",
    "## DATA:\n",
    "https://www.kaggle.com/datasets/mirichoi0218/insurance"
   ]
  },
  {
   "cell_type": "code",
   "execution_count": 3,
   "id": "8b505fbe-afd2-47e5-8570-9b16f1f0efec",
   "metadata": {},
   "outputs": [],
   "source": [
    "import pandas as pd\n",
    "from sklearn.model_selection import train_test_split\n",
    "from sklearn.linear_model import LinearRegression\n",
    "from sklearn.metrics import mean_squared_error, r2_score\n",
    "import numpy as np"
   ]
  },
  {
   "cell_type": "code",
   "execution_count": 4,
   "id": "b0f28ae6-3d79-468e-a097-84f2f758b98c",
   "metadata": {},
   "outputs": [
    {
     "data": {
      "text/html": [
       "<div>\n",
       "<style scoped>\n",
       "    .dataframe tbody tr th:only-of-type {\n",
       "        vertical-align: middle;\n",
       "    }\n",
       "\n",
       "    .dataframe tbody tr th {\n",
       "        vertical-align: top;\n",
       "    }\n",
       "\n",
       "    .dataframe thead th {\n",
       "        text-align: right;\n",
       "    }\n",
       "</style>\n",
       "<table border=\"1\" class=\"dataframe\">\n",
       "  <thead>\n",
       "    <tr style=\"text-align: right;\">\n",
       "      <th></th>\n",
       "      <th>age</th>\n",
       "      <th>sex</th>\n",
       "      <th>bmi</th>\n",
       "      <th>children</th>\n",
       "      <th>smoker</th>\n",
       "      <th>region</th>\n",
       "      <th>charges</th>\n",
       "    </tr>\n",
       "  </thead>\n",
       "  <tbody>\n",
       "    <tr>\n",
       "      <th>0</th>\n",
       "      <td>19</td>\n",
       "      <td>female</td>\n",
       "      <td>27.900</td>\n",
       "      <td>0</td>\n",
       "      <td>yes</td>\n",
       "      <td>southwest</td>\n",
       "      <td>16884.92400</td>\n",
       "    </tr>\n",
       "    <tr>\n",
       "      <th>1</th>\n",
       "      <td>18</td>\n",
       "      <td>male</td>\n",
       "      <td>33.770</td>\n",
       "      <td>1</td>\n",
       "      <td>no</td>\n",
       "      <td>southeast</td>\n",
       "      <td>1725.55230</td>\n",
       "    </tr>\n",
       "    <tr>\n",
       "      <th>2</th>\n",
       "      <td>28</td>\n",
       "      <td>male</td>\n",
       "      <td>33.000</td>\n",
       "      <td>3</td>\n",
       "      <td>no</td>\n",
       "      <td>southeast</td>\n",
       "      <td>4449.46200</td>\n",
       "    </tr>\n",
       "    <tr>\n",
       "      <th>3</th>\n",
       "      <td>33</td>\n",
       "      <td>male</td>\n",
       "      <td>22.705</td>\n",
       "      <td>0</td>\n",
       "      <td>no</td>\n",
       "      <td>northwest</td>\n",
       "      <td>21984.47061</td>\n",
       "    </tr>\n",
       "    <tr>\n",
       "      <th>4</th>\n",
       "      <td>32</td>\n",
       "      <td>male</td>\n",
       "      <td>28.880</td>\n",
       "      <td>0</td>\n",
       "      <td>no</td>\n",
       "      <td>northwest</td>\n",
       "      <td>3866.85520</td>\n",
       "    </tr>\n",
       "    <tr>\n",
       "      <th>...</th>\n",
       "      <td>...</td>\n",
       "      <td>...</td>\n",
       "      <td>...</td>\n",
       "      <td>...</td>\n",
       "      <td>...</td>\n",
       "      <td>...</td>\n",
       "      <td>...</td>\n",
       "    </tr>\n",
       "    <tr>\n",
       "      <th>1333</th>\n",
       "      <td>50</td>\n",
       "      <td>male</td>\n",
       "      <td>30.970</td>\n",
       "      <td>3</td>\n",
       "      <td>no</td>\n",
       "      <td>northwest</td>\n",
       "      <td>10600.54830</td>\n",
       "    </tr>\n",
       "    <tr>\n",
       "      <th>1334</th>\n",
       "      <td>18</td>\n",
       "      <td>female</td>\n",
       "      <td>31.920</td>\n",
       "      <td>0</td>\n",
       "      <td>no</td>\n",
       "      <td>northeast</td>\n",
       "      <td>2205.98080</td>\n",
       "    </tr>\n",
       "    <tr>\n",
       "      <th>1335</th>\n",
       "      <td>18</td>\n",
       "      <td>female</td>\n",
       "      <td>36.850</td>\n",
       "      <td>0</td>\n",
       "      <td>no</td>\n",
       "      <td>southeast</td>\n",
       "      <td>1629.83350</td>\n",
       "    </tr>\n",
       "    <tr>\n",
       "      <th>1336</th>\n",
       "      <td>21</td>\n",
       "      <td>female</td>\n",
       "      <td>25.800</td>\n",
       "      <td>0</td>\n",
       "      <td>no</td>\n",
       "      <td>southwest</td>\n",
       "      <td>2007.94500</td>\n",
       "    </tr>\n",
       "    <tr>\n",
       "      <th>1337</th>\n",
       "      <td>61</td>\n",
       "      <td>female</td>\n",
       "      <td>29.070</td>\n",
       "      <td>0</td>\n",
       "      <td>yes</td>\n",
       "      <td>northwest</td>\n",
       "      <td>29141.36030</td>\n",
       "    </tr>\n",
       "  </tbody>\n",
       "</table>\n",
       "<p>1338 rows × 7 columns</p>\n",
       "</div>"
      ],
      "text/plain": [
       "      age     sex     bmi  children smoker     region      charges\n",
       "0      19  female  27.900         0    yes  southwest  16884.92400\n",
       "1      18    male  33.770         1     no  southeast   1725.55230\n",
       "2      28    male  33.000         3     no  southeast   4449.46200\n",
       "3      33    male  22.705         0     no  northwest  21984.47061\n",
       "4      32    male  28.880         0     no  northwest   3866.85520\n",
       "...   ...     ...     ...       ...    ...        ...          ...\n",
       "1333   50    male  30.970         3     no  northwest  10600.54830\n",
       "1334   18  female  31.920         0     no  northeast   2205.98080\n",
       "1335   18  female  36.850         0     no  southeast   1629.83350\n",
       "1336   21  female  25.800         0     no  southwest   2007.94500\n",
       "1337   61  female  29.070         0    yes  northwest  29141.36030\n",
       "\n",
       "[1338 rows x 7 columns]"
      ]
     },
     "execution_count": 4,
     "metadata": {},
     "output_type": "execute_result"
    }
   ],
   "source": [
    "data = pd.read_csv(\"insurance.csv\")\n",
    "data"
   ]
  },
  {
   "cell_type": "code",
   "execution_count": 10,
   "id": "3dbcec52-e542-4eb6-b9a0-5de71449629d",
   "metadata": {},
   "outputs": [
    {
     "name": "stdout",
     "output_type": "stream",
     "text": [
      "Simple Linear Regression - BMI to Charges\n",
      "MSE: 149085057.03839505\n",
      "R-squared: 0.03970193117941878\n"
     ]
    }
   ],
   "source": [
    "# 1 (L12 – 2 ქულა)\n",
    "# ვქმნი simple linear regression მოდელს რათა ვივარაუდო სადაზღვეო ხარჯების დამოკიდებულება ერთ დამოუკიდებელ ცვლადზე, ამ შემტხვევაში 'bmi'\n",
    "X = data[['bmi']]\n",
    "y = data['charges']\n",
    "\n",
    "# მონახემი დაიყო სატესტოდ და სატრენინგოდ\n",
    "X_train, X_test, y_train, y_test = train_test_split(X, y, test_size=0.2, random_state=42)\n",
    "\n",
    "model = LinearRegression()\n",
    "\n",
    "model.fit(X_train, y_train)\n",
    "\n",
    "y_pred = model.predict(X_test)\n",
    "\n",
    "mse = mean_squared_error(y_test, y_pred)\n",
    "r2 = r2_score(y_test, y_pred)\n",
    "\n",
    "print(\"Simple Linear Regression - BMI to Charges\")\n",
    "print(f\"MSE: {mse}\")\n",
    "print(f\"R-squared: {r2}\")\n",
    "\n",
    "\"\"\"\n",
    "შედეგიდან გამომდინარე\n",
    "MSE: 149085057.03839505\n",
    "R-squared: 0.03970193117941878 \n",
    "ჩანს რომ წრფივი კავშირი BMI-სა და სადაზღვეო ხარჯებს შორის სუსტია, რასაც დაბალი R-squared მიუთითებს\n",
    "\"\"\""
   ]
  },
  {
   "cell_type": "code",
   "execution_count": 13,
   "id": "358da549-78bd-48c6-a510-b47629a149a0",
   "metadata": {},
   "outputs": [
    {
     "name": "stdout",
     "output_type": "stream",
     "text": [
      "Multiple Linear Regression - Multiple Variables to Charges\n",
      "MSE: 33602504.508081295\n",
      "R-squared: 0.7835569786290855\n"
     ]
    },
    {
     "data": {
      "text/plain": [
       "'\\nშედეგებიდან გამომდინარე\\n'"
      ]
     },
     "execution_count": 13,
     "metadata": {},
     "output_type": "execute_result"
    }
   ],
   "source": [
    "# 2 (L12 – 2 ქულა)\n",
    "# ვქმნი multiple linear regression მოდელს რათა ვივარაუდო სადაზღვეო ხარჯების დამოკიდებულება რამდენიმე დამოუკიდებელ ცვლადზე\n",
    "X = data[['age', 'bmi', 'children', 'smoker', 'region']]\n",
    "y = data['charges']\n",
    "\n",
    "X = pd.get_dummies(X, drop_first=True)\n",
    "\n",
    "X_train, X_test, y_train, y_test = train_test_split(X, y, test_size=0.2, random_state=42)\n",
    "\n",
    "model = LinearRegression()\n",
    "\n",
    "model.fit(X_train, y_train)\n",
    "\n",
    "y_pred = model.predict(X_test)\n",
    "\n",
    "# Calculating evaluation metrics\n",
    "mse = mean_squared_error(y_test, y_pred)\n",
    "r2 = r2_score(y_test, y_pred)\n",
    "\n",
    "# Displaying the results\n",
    "print(\"Multiple Linear Regression - Multiple Variables to Charges\")\n",
    "print(f\"MSE: {mse}\")\n",
    "print(f\"R-squared: {r2}\")\n",
    "\n",
    "\"\"\"\n",
    "შედეგებიდან გამომდინარე\n",
    "MSE: 33602504.508081295\n",
    "R-squared: 0.7835569786290855\n",
    "ჩანს, რომ ეს მოდელი უკეთეს შედეგს აჩვენებს, ბევრად მაღალია R-squared-ის მაჩვენებელი.\n",
    "\"\"\""
   ]
  },
  {
   "cell_type": "code",
   "execution_count": 18,
   "id": "df353324-6132-4173-b22f-a41606828e70",
   "metadata": {},
   "outputs": [
    {
     "name": "stdout",
     "output_type": "stream",
     "text": [
      "Decision Tree Regression - Multiple Variables to Charges\n",
      "MSE: 39876049.53214782\n",
      "R-squared: 0.7431473407287659\n"
     ]
    },
    {
     "data": {
      "text/plain": [
       "'\\nშედეგებიდან გამომდინარე\\nMSE: 39876049.53214782\\nR-squared: 0.7431473407287659\\nმსგავსი შედეგი, რაც task2-ში\\n'"
      ]
     },
     "execution_count": 18,
     "metadata": {},
     "output_type": "execute_result"
    }
   ],
   "source": [
    "# 3 (L13 – 3 ქულა)\n",
    "# # ვქმნი გადაწყვეტილების ხის მოდელს რათა ვივარაუდო სადაზღვეო ხარჯების დამოკიდებულება რამდენიმე დამოუკიდებელ ცვლადზე\n",
    "from sklearn.tree import DecisionTreeRegressor\n",
    "\n",
    "#ვიყენებ იგივე ცვლადებს, რასაც 2-ში\n",
    "\n",
    "model = DecisionTreeRegressor(random_state=42)\n",
    "\n",
    "model.fit(X_train, y_train)\n",
    "\n",
    "y_pred = model.predict(X_test)\n",
    "\n",
    "mse = mean_squared_error(y_test, y_pred)\n",
    "r2 = r2_score(y_test, y_pred)\n",
    "\n",
    "print(\"Decision Tree Regression - Multiple Variables to Charges\")\n",
    "print(f\"MSE: {mse}\")\n",
    "print(f\"R-squared: {r2}\")\n",
    "\n",
    "\"\"\"\n",
    "შედეგებიდან გამომდინარე\n",
    "MSE: 39876049.53214782\n",
    "R-squared: 0.7431473407287659\n",
    "მსგავსი შედეგი, რაც task2-ში\n",
    "\"\"\""
   ]
  },
  {
   "cell_type": "code",
   "execution_count": 20,
   "id": "1cee0c37-d743-4c42-bf0b-39a1c89cc47d",
   "metadata": {},
   "outputs": [
    {
     "name": "stdout",
     "output_type": "stream",
     "text": [
      "Logistic Regression - High Charge Classification\n",
      "Accuracy: 0.9067164179104478\n",
      "Precision: 0.875968992248062\n",
      "Recall: 0.9262295081967213\n",
      "F1 Score: 0.900398406374502\n"
     ]
    },
    {
     "data": {
      "text/plain": [
       "'\\nშედეგების შედეგად\\nAccuracy: 0.9067164179104478\\nPrecision: 0.875968992248062\\nRecall: 0.9262295081967213\\nF1 Score: 0.900398406374502\\n\\nეს მეტრიკა მიუთითებს იმაზე, რომ ლოჯისტიკური რეგრესიის მოდელი კარგად მუშაობს\\n'"
      ]
     },
     "execution_count": 20,
     "metadata": {},
     "output_type": "execute_result"
    }
   ],
   "source": [
    "# 4 (L14 – 3 ქულა)\n",
    "# ვქმნი ლოჯისტიკურ რეგრესიის მოდელს, რათა დავადგინო არის თუ არა მაღალი დაზღვევოის ხარჯები, მრავალ დამოუკიდებელ ცვლადზე დაყრფნობით\n",
    "from sklearn.linear_model import LogisticRegression\n",
    "from sklearn.metrics import accuracy_score, precision_score, recall_score, f1_score\n",
    "\n",
    "median_charge = data['charges'].median()\n",
    "data['high_charge'] = (data['charges'] > median_charge).astype(int)\n",
    "\n",
    "X = data[['age', 'bmi', 'children', 'smoker', 'region']]\n",
    "y = data['high_charge']\n",
    "\n",
    "X = pd.get_dummies(X, drop_first=True)\n",
    "\n",
    "X_train, X_test, y_train, y_test = train_test_split(X, y, test_size=0.2, random_state=42)\n",
    "\n",
    "model = LogisticRegression(max_iter=10000)\n",
    "\n",
    "model.fit(X_train, y_train)\n",
    "\n",
    "y_pred = model.predict(X_test)\n",
    "\n",
    "accuracy = accuracy_score(y_test, y_pred)\n",
    "precision = precision_score(y_test, y_pred)\n",
    "recall = recall_score(y_test, y_pred)\n",
    "f1 = f1_score(y_test, y_pred)\n",
    "\n",
    "print(\"Logistic Regression - High Charge Classification\")\n",
    "print(f\"Accuracy: {accuracy}\")\n",
    "print(f\"Precision: {precision}\")\n",
    "print(f\"Recall: {recall}\")\n",
    "print(f\"F1 Score: {f1}\")\n",
    "\n",
    "\"\"\"\n",
    "შედეგების შედეგად\n",
    "Accuracy: 0.9067164179104478\n",
    "Precision: 0.875968992248062\n",
    "Recall: 0.9262295081967213\n",
    "F1 Score: 0.900398406374502\n",
    "\n",
    "ეს მეტრიკა მიუთითებს იმაზე, რომ ლოჯისტიკური რეგრესიის მოდელი კარგად მუშაობს\n",
    "\"\"\"\n",
    "\n",
    "\n"
   ]
  },
  {
   "cell_type": "code",
   "execution_count": 22,
   "id": "39ce2b63-4478-486c-b4e1-5c1b901623ac",
   "metadata": {},
   "outputs": [
    {
     "name": "stdout",
     "output_type": "stream",
     "text": [
      "Decision Tree Classification - High Charge Classification\n",
      "Accuracy: 0.8656716417910447\n",
      "Precision: 0.8307692307692308\n",
      "Recall: 0.8852459016393442\n",
      "F1 Score: 0.8571428571428571\n"
     ]
    },
    {
     "data": {
      "text/plain": [
       "'\\nშედეგებზე დაყრდნობით\\n'"
      ]
     },
     "execution_count": 22,
     "metadata": {},
     "output_type": "execute_result"
    }
   ],
   "source": [
    "# 5 (L13 – 4 ქულა)\n",
    "# ვიყენებ გადაწყვეტილების ხის კლასიფიკაციის მოდელს, რათა დავადგინო არის თუ არა მაღალი დაზღვევოის ხარჯები, მრავალ დამოუკიდებელ ცვლადზე დაყრფნობით\n",
    "from sklearn.tree import DecisionTreeClassifier\n",
    "\n",
    "# ვიყენებ იგივე ცვლადებს, რასაც 4-ში\n",
    "\n",
    "model = DecisionTreeClassifier(random_state=42)\n",
    "\n",
    "model.fit(X_train, y_train)\n",
    "\n",
    "y_pred = model.predict(X_test)\n",
    "\n",
    "accuracy = accuracy_score(y_test, y_pred)\n",
    "precision = precision_score(y_test, y_pred)\n",
    "recall = recall_score(y_test, y_pred)\n",
    "f1 = f1_score(y_test, y_pred)\n",
    "\n",
    "print(\"Decision Tree Classification - High Charge Classification\")\n",
    "print(f\"Accuracy: {accuracy}\")\n",
    "print(f\"Precision: {precision}\")\n",
    "print(f\"Recall: {recall}\")\n",
    "print(f\"F1 Score: {f1}\")\n",
    "\n",
    "\"\"\"\n",
    "შედეგებზე დაყრდნობით\n",
    "Accuracy: 0.8656716417910447\n",
    "Precision: 0.8307692307692308\n",
    "Recall: 0.8852459016393442\n",
    "F1 Score: 0.8571428571428571\n",
    "ეს მეტრიკა მიუთითებს იმაზე, რომ გადაწყვეტილების ხის კლასიფიკაციის მოდელი კარგად მუშაობს\n",
    "\n",
    "\"\"\""
   ]
  },
  {
   "cell_type": "code",
   "execution_count": null,
   "id": "e108d13c-744b-44ab-8488-c1e0808c71f7",
   "metadata": {},
   "outputs": [],
   "source": []
  }
 ],
 "metadata": {
  "kernelspec": {
   "display_name": "Python 3 (ipykernel)",
   "language": "python",
   "name": "python3"
  },
  "language_info": {
   "codemirror_mode": {
    "name": "ipython",
    "version": 3
   },
   "file_extension": ".py",
   "mimetype": "text/x-python",
   "name": "python",
   "nbconvert_exporter": "python",
   "pygments_lexer": "ipython3",
   "version": "3.12.2"
  }
 },
 "nbformat": 4,
 "nbformat_minor": 5
}
